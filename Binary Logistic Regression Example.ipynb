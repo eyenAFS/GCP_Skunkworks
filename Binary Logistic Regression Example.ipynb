{
 "cells": [
  {
   "cell_type": "code",
   "execution_count": 5,
   "metadata": {},
   "outputs": [],
   "source": [
    "%load_ext google.cloud.bigquery"
   ]
  },
  {
   "cell_type": "code",
   "execution_count": 3,
   "metadata": {},
   "outputs": [
    {
     "name": "stdout",
     "output_type": "stream",
     "text": [
      "Collecting keras\n",
      "  Using cached https://files.pythonhosted.org/packages/34/7d/b1dedde8af99bd82f20ed7e9697aac0597de3049b1f786aa2aac3b9bd4da/Keras-2.2.2-py2.py3-none-any.whl\n",
      "Collecting keras-preprocessing==1.0.2 (from keras)\n",
      "  Using cached https://files.pythonhosted.org/packages/71/26/1e778ebd737032749824d5cba7dbd3b0cf9234b87ab5ec79f5f0403ca7e9/Keras_Preprocessing-1.0.2-py2.py3-none-any.whl\n",
      "Collecting keras-applications==1.0.4 (from keras)\n",
      "  Using cached https://files.pythonhosted.org/packages/54/90/8f327deaa37a71caddb59b7b4aaa9d4b3e90c0e76f8c2d1572005278ddc5/Keras_Applications-1.0.4-py2.py3-none-any.whl\n",
      "Requirement already satisfied: six>=1.9.0 in /usr/local/envs/py3env/lib/python3.5/site-packages (from keras) (1.10.0)\n",
      "Requirement already satisfied: scipy>=0.14 in /usr/local/envs/py3env/lib/python3.5/site-packages (from keras) (1.0.0)\n",
      "Requirement already satisfied: numpy>=1.9.1 in /usr/local/envs/py3env/lib/python3.5/site-packages (from keras) (1.14.0)\n",
      "Requirement already satisfied: h5py in /usr/local/envs/py3env/lib/python3.5/site-packages (from keras) (2.7.1)\n",
      "Requirement already satisfied: pyyaml in /usr/local/envs/py3env/lib/python3.5/site-packages (from keras) (3.13)\n",
      "Installing collected packages: keras-preprocessing, keras-applications, keras\n",
      "Successfully installed keras-2.2.2 keras-applications-1.0.4 keras-preprocessing-1.0.2\n"
     ]
    }
   ],
   "source": [
    "!pip install keras #keras wasn't installed on my datalab at first"
   ]
  },
  {
   "cell_type": "code",
   "execution_count": 6,
   "metadata": {},
   "outputs": [
    {
     "name": "stderr",
     "output_type": "stream",
     "text": [
      "/usr/local/envs/py3env/lib/python3.5/site-packages/h5py/__init__.py:36: FutureWarning: Conversion of the second argument of issubdtype from `float` to `np.floating` is deprecated. In future, it will be treated as `np.float64 == np.dtype(float).type`.\n",
      "  from ._conv import register_converters as _register_converters\n",
      "Using TensorFlow backend.\n"
     ]
    }
   ],
   "source": [
    "import pandas as pd   #Pandas are cute and fuzzy -- https://pandas.pydata.org/ \n",
    "import seaborn as sb  #Seaborn is good for charts/graphs -- https://seaborn.pydata.org/\n",
    "import numpy as np  #numpy has numerous functions that make difficult math easy -- http://www.numpy.org/ \n",
    "import matplotlib.pyplot as plt #Matplotlib/pyplot is used to determine the width/height of resulting graphs \n",
    "from keras.models import Sequential\n",
    "from keras.layers import Dense\n",
    "from keras.wrappers.scikit_learn import KerasClassifier\n",
    "from sklearn.model_selection import cross_val_score\n",
    "from sklearn.preprocessing import LabelEncoder\n",
    "from sklearn.model_selection import StratifiedKFold\n",
    "from sklearn.preprocessing import StandardScaler\n",
    "from sklearn.pipeline import Pipeline"
   ]
  },
  {
   "cell_type": "code",
   "execution_count": 7,
   "metadata": {},
   "outputs": [],
   "source": [
    "%bq query -n get_data\n",
    "SELECT\n",
    "DISTANCE,\n",
    "DEP_DELAY,\n",
    "TAXI_OUT,\n",
    "ARR_DELAY\n",
    "FROM\n",
    "`acnskunks-gcp-esy.acnskunksesy.flight_data`\n",
    "WHERE \n",
    "CANCELLED = 0 \n",
    "AND \n",
    "DIVERTED = 0 "
   ]
  },
  {
   "cell_type": "code",
   "execution_count": 8,
   "metadata": {},
   "outputs": [
    {
     "name": "stdout",
     "output_type": "stream",
     "text": [
      "<class 'pandas.core.frame.DataFrame'>\n"
     ]
    },
    {
     "data": {
      "text/plain": [
       "DISTANCE     3309846\n",
       "DEP_DELAY    3309846\n",
       "TAXI_OUT     3309846\n",
       "ARR_DELAY    3309846\n",
       "dtype: int64"
      ]
     },
     "execution_count": 8,
     "metadata": {},
     "output_type": "execute_result"
    }
   ],
   "source": [
    "#Execute the get_data query staged above, store as dataframe\n",
    "df = %bq execute --to-dataframe -q get_data\n",
    "print(type(df))\n",
    "df.head(5)\n",
    "df.describe()\n",
    "df.count()"
   ]
  },
  {
   "cell_type": "code",
   "execution_count": 11,
   "metadata": {},
   "outputs": [
    {
     "data": {
      "text/html": [
       "<div>\n",
       "<style scoped>\n",
       "    .dataframe tbody tr th:only-of-type {\n",
       "        vertical-align: middle;\n",
       "    }\n",
       "\n",
       "    .dataframe tbody tr th {\n",
       "        vertical-align: top;\n",
       "    }\n",
       "\n",
       "    .dataframe thead th {\n",
       "        text-align: right;\n",
       "    }\n",
       "</style>\n",
       "<table border=\"1\" class=\"dataframe\">\n",
       "  <thead>\n",
       "    <tr style=\"text-align: right;\">\n",
       "      <th></th>\n",
       "      <th>DISTANCE</th>\n",
       "      <th>DEP_DELAY</th>\n",
       "      <th>TAXI_OUT</th>\n",
       "      <th>ARR_DELAY</th>\n",
       "    </tr>\n",
       "  </thead>\n",
       "  <tbody>\n",
       "    <tr>\n",
       "      <th>0</th>\n",
       "      <td>626.0</td>\n",
       "      <td>-17.0</td>\n",
       "      <td>4.0</td>\n",
       "      <td>-20.0</td>\n",
       "    </tr>\n",
       "    <tr>\n",
       "      <th>1</th>\n",
       "      <td>213.0</td>\n",
       "      <td>-25.0</td>\n",
       "      <td>4.0</td>\n",
       "      <td>-24.0</td>\n",
       "    </tr>\n",
       "    <tr>\n",
       "      <th>2</th>\n",
       "      <td>213.0</td>\n",
       "      <td>-19.0</td>\n",
       "      <td>5.0</td>\n",
       "      <td>-18.0</td>\n",
       "    </tr>\n",
       "    <tr>\n",
       "      <th>3</th>\n",
       "      <td>725.0</td>\n",
       "      <td>-19.0</td>\n",
       "      <td>4.0</td>\n",
       "      <td>-24.0</td>\n",
       "    </tr>\n",
       "    <tr>\n",
       "      <th>4</th>\n",
       "      <td>725.0</td>\n",
       "      <td>-21.0</td>\n",
       "      <td>3.0</td>\n",
       "      <td>-25.0</td>\n",
       "    </tr>\n",
       "  </tbody>\n",
       "</table>\n",
       "</div>"
      ],
      "text/plain": [
       "   DISTANCE  DEP_DELAY  TAXI_OUT  ARR_DELAY\n",
       "0     626.0      -17.0       4.0      -20.0\n",
       "1     213.0      -25.0       4.0      -24.0\n",
       "2     213.0      -19.0       5.0      -18.0\n",
       "3     725.0      -19.0       4.0      -24.0\n",
       "4     725.0      -21.0       3.0      -25.0"
      ]
     },
     "execution_count": 11,
     "metadata": {},
     "output_type": "execute_result"
    }
   ],
   "source": [
    "df.head(5)"
   ]
  },
  {
   "cell_type": "code",
   "execution_count": 10,
   "metadata": {},
   "outputs": [],
   "source": [
    "#store data as a csv (so you don't have to requery next time you stop/start the dataframe)\n",
    "df.to_csv('alldata.csv')"
   ]
  },
  {
   "cell_type": "code",
   "execution_count": 14,
   "metadata": {},
   "outputs": [
    {
     "data": {
      "text/html": [
       "<div>\n",
       "<style scoped>\n",
       "    .dataframe tbody tr th:only-of-type {\n",
       "        vertical-align: middle;\n",
       "    }\n",
       "\n",
       "    .dataframe tbody tr th {\n",
       "        vertical-align: top;\n",
       "    }\n",
       "\n",
       "    .dataframe thead th {\n",
       "        text-align: right;\n",
       "    }\n",
       "</style>\n",
       "<table border=\"1\" class=\"dataframe\">\n",
       "  <thead>\n",
       "    <tr style=\"text-align: right;\">\n",
       "      <th></th>\n",
       "      <th>Unnamed: 0</th>\n",
       "      <th>DISTANCE</th>\n",
       "      <th>DEP_DELAY</th>\n",
       "      <th>TAXI_OUT</th>\n",
       "      <th>ARR_DELAY</th>\n",
       "    </tr>\n",
       "  </thead>\n",
       "  <tbody>\n",
       "    <tr>\n",
       "      <th>0</th>\n",
       "      <td>0</td>\n",
       "      <td>626.0</td>\n",
       "      <td>-17.0</td>\n",
       "      <td>4.0</td>\n",
       "      <td>-20.0</td>\n",
       "    </tr>\n",
       "    <tr>\n",
       "      <th>1</th>\n",
       "      <td>1</td>\n",
       "      <td>213.0</td>\n",
       "      <td>-25.0</td>\n",
       "      <td>4.0</td>\n",
       "      <td>-24.0</td>\n",
       "    </tr>\n",
       "    <tr>\n",
       "      <th>2</th>\n",
       "      <td>2</td>\n",
       "      <td>213.0</td>\n",
       "      <td>-19.0</td>\n",
       "      <td>5.0</td>\n",
       "      <td>-18.0</td>\n",
       "    </tr>\n",
       "    <tr>\n",
       "      <th>3</th>\n",
       "      <td>3</td>\n",
       "      <td>725.0</td>\n",
       "      <td>-19.0</td>\n",
       "      <td>4.0</td>\n",
       "      <td>-24.0</td>\n",
       "    </tr>\n",
       "    <tr>\n",
       "      <th>4</th>\n",
       "      <td>4</td>\n",
       "      <td>725.0</td>\n",
       "      <td>-21.0</td>\n",
       "      <td>3.0</td>\n",
       "      <td>-25.0</td>\n",
       "    </tr>\n",
       "  </tbody>\n",
       "</table>\n",
       "</div>"
      ],
      "text/plain": [
       "   Unnamed: 0  DISTANCE  DEP_DELAY  TAXI_OUT  ARR_DELAY\n",
       "0           0     626.0      -17.0       4.0      -20.0\n",
       "1           1     213.0      -25.0       4.0      -24.0\n",
       "2           2     213.0      -19.0       5.0      -18.0\n",
       "3           3     725.0      -19.0       4.0      -24.0\n",
       "4           4     725.0      -21.0       3.0      -25.0"
      ]
     },
     "execution_count": 14,
     "metadata": {},
     "output_type": "execute_result"
    }
   ],
   "source": [
    "#Pull the data from the CSV and load it into a new dataframe\n",
    "dataframe = pd.read_csv(\"alldata.csv\")\n",
    "dataframe.head(5)"
   ]
  },
  {
   "cell_type": "code",
   "execution_count": 15,
   "metadata": {},
   "outputs": [],
   "source": [
    "#My model predicts whether the flight will arrive before 15 minutes, or after 15 minutes (thereby classifying it as \"DELAYED\").\n",
    "#In order to extract this, I need to create a new column, populating it with a 1 if the flight is delayed, or 0 if it is not.\n",
    "\n",
    "def delay(row):\n",
    "  if row['ARR_DELAY'] > 15:\n",
    "    val = 1\n",
    "  else:\n",
    "    val = 0\n",
    "  return val"
   ]
  },
  {
   "cell_type": "code",
   "execution_count": 16,
   "metadata": {},
   "outputs": [],
   "source": [
    "#Add a new column to my dataframe, 1 if delayed, 0 if not\n",
    "dataframe['DELAY']= dataframe.apply(delay, axis=1)"
   ]
  },
  {
   "cell_type": "code",
   "execution_count": 18,
   "metadata": {},
   "outputs": [
    {
     "data": {
      "text/html": [
       "<div>\n",
       "<style scoped>\n",
       "    .dataframe tbody tr th:only-of-type {\n",
       "        vertical-align: middle;\n",
       "    }\n",
       "\n",
       "    .dataframe tbody tr th {\n",
       "        vertical-align: top;\n",
       "    }\n",
       "\n",
       "    .dataframe thead th {\n",
       "        text-align: right;\n",
       "    }\n",
       "</style>\n",
       "<table border=\"1\" class=\"dataframe\">\n",
       "  <thead>\n",
       "    <tr style=\"text-align: right;\">\n",
       "      <th></th>\n",
       "      <th>Unnamed: 0</th>\n",
       "      <th>DISTANCE</th>\n",
       "      <th>DEP_DELAY</th>\n",
       "      <th>TAXI_OUT</th>\n",
       "      <th>ARR_DELAY</th>\n",
       "      <th>DELAY</th>\n",
       "    </tr>\n",
       "  </thead>\n",
       "  <tbody>\n",
       "    <tr>\n",
       "      <th>0</th>\n",
       "      <td>0</td>\n",
       "      <td>626.0</td>\n",
       "      <td>-17.0</td>\n",
       "      <td>4.0</td>\n",
       "      <td>-20.0</td>\n",
       "      <td>0</td>\n",
       "    </tr>\n",
       "    <tr>\n",
       "      <th>1</th>\n",
       "      <td>1</td>\n",
       "      <td>213.0</td>\n",
       "      <td>-25.0</td>\n",
       "      <td>4.0</td>\n",
       "      <td>-24.0</td>\n",
       "      <td>0</td>\n",
       "    </tr>\n",
       "    <tr>\n",
       "      <th>2</th>\n",
       "      <td>2</td>\n",
       "      <td>213.0</td>\n",
       "      <td>-19.0</td>\n",
       "      <td>5.0</td>\n",
       "      <td>-18.0</td>\n",
       "      <td>0</td>\n",
       "    </tr>\n",
       "    <tr>\n",
       "      <th>3</th>\n",
       "      <td>3</td>\n",
       "      <td>725.0</td>\n",
       "      <td>-19.0</td>\n",
       "      <td>4.0</td>\n",
       "      <td>-24.0</td>\n",
       "      <td>0</td>\n",
       "    </tr>\n",
       "    <tr>\n",
       "      <th>4</th>\n",
       "      <td>4</td>\n",
       "      <td>725.0</td>\n",
       "      <td>-21.0</td>\n",
       "      <td>3.0</td>\n",
       "      <td>-25.0</td>\n",
       "      <td>0</td>\n",
       "    </tr>\n",
       "    <tr>\n",
       "      <th>5</th>\n",
       "      <td>5</td>\n",
       "      <td>539.0</td>\n",
       "      <td>-14.0</td>\n",
       "      <td>3.0</td>\n",
       "      <td>-18.0</td>\n",
       "      <td>0</td>\n",
       "    </tr>\n",
       "    <tr>\n",
       "      <th>6</th>\n",
       "      <td>6</td>\n",
       "      <td>204.0</td>\n",
       "      <td>66.0</td>\n",
       "      <td>5.0</td>\n",
       "      <td>60.0</td>\n",
       "      <td>1</td>\n",
       "    </tr>\n",
       "    <tr>\n",
       "      <th>7</th>\n",
       "      <td>7</td>\n",
       "      <td>539.0</td>\n",
       "      <td>52.0</td>\n",
       "      <td>5.0</td>\n",
       "      <td>60.0</td>\n",
       "      <td>1</td>\n",
       "    </tr>\n",
       "    <tr>\n",
       "      <th>8</th>\n",
       "      <td>8</td>\n",
       "      <td>399.0</td>\n",
       "      <td>22.0</td>\n",
       "      <td>4.0</td>\n",
       "      <td>20.0</td>\n",
       "      <td>1</td>\n",
       "    </tr>\n",
       "    <tr>\n",
       "      <th>9</th>\n",
       "      <td>9</td>\n",
       "      <td>198.0</td>\n",
       "      <td>-25.0</td>\n",
       "      <td>3.0</td>\n",
       "      <td>-24.0</td>\n",
       "      <td>0</td>\n",
       "    </tr>\n",
       "  </tbody>\n",
       "</table>\n",
       "</div>"
      ],
      "text/plain": [
       "   Unnamed: 0  DISTANCE  DEP_DELAY  TAXI_OUT  ARR_DELAY  DELAY\n",
       "0           0     626.0      -17.0       4.0      -20.0      0\n",
       "1           1     213.0      -25.0       4.0      -24.0      0\n",
       "2           2     213.0      -19.0       5.0      -18.0      0\n",
       "3           3     725.0      -19.0       4.0      -24.0      0\n",
       "4           4     725.0      -21.0       3.0      -25.0      0\n",
       "5           5     539.0      -14.0       3.0      -18.0      0\n",
       "6           6     204.0       66.0       5.0       60.0      1\n",
       "7           7     539.0       52.0       5.0       60.0      1\n",
       "8           8     399.0       22.0       4.0       20.0      1\n",
       "9           9     198.0      -25.0       3.0      -24.0      0"
      ]
     },
     "execution_count": 18,
     "metadata": {},
     "output_type": "execute_result"
    }
   ],
   "source": [
    "#Note that there is a new column \"DELAY\" with a 0 or 1\n",
    "dataframe.head(10)"
   ]
  },
  {
   "cell_type": "code",
   "execution_count": 19,
   "metadata": {},
   "outputs": [
    {
     "name": "stdout",
     "output_type": "stream",
     "text": [
      "[[ 0.000000e+00  6.260000e+02 -1.700000e+01  4.000000e+00 -2.000000e+01\n",
      "   0.000000e+00]\n",
      " [ 1.000000e+00  2.130000e+02 -2.500000e+01  4.000000e+00 -2.400000e+01\n",
      "   0.000000e+00]\n",
      " [ 2.000000e+00  2.130000e+02 -1.900000e+01  5.000000e+00 -1.800000e+01\n",
      "   0.000000e+00]\n",
      " ...\n",
      " [ 3.309843e+06  1.164000e+03 -1.000000e+00  3.300000e+01  1.100000e+01\n",
      "   0.000000e+00]\n",
      " [ 3.309844e+06  1.090000e+02 -1.000000e+00  3.300000e+01  7.000000e+00\n",
      "   0.000000e+00]\n",
      " [ 3.309845e+06  1.090000e+02 -1.000000e+00  3.300000e+01  4.000000e+00\n",
      "   0.000000e+00]]\n"
     ]
    }
   ],
   "source": [
    "#We need to extract two sets of data to feed into Keras 1)The Input data, which in my case is Distance, DEP_DELAY, and TAXI_OUT time and 2)Output data or my prediction, which is DELAY\n",
    "#In order to do this, I first vectorize my dataframe\n",
    "X = dataframe.values\n",
    "print(X)"
   ]
  },
  {
   "cell_type": "code",
   "execution_count": 21,
   "metadata": {},
   "outputs": [
    {
     "name": "stdout",
     "output_type": "stream",
     "text": [
      "[[626. -17.   4.]\n",
      " [213. -25.   4.]\n",
      " [213. -19.   5.]\n",
      " [725. -19.   4.]\n",
      " [725. -21.   3.]\n",
      " [539. -14.   3.]\n",
      " [204.  66.   5.]\n",
      " [539.  52.   5.]\n",
      " [399.  22.   4.]\n",
      " [198. -25.   3.]]\n",
      "[[0.]\n",
      " [0.]\n",
      " [0.]\n",
      " [0.]\n",
      " [0.]\n",
      " [0.]\n",
      " [1.]\n",
      " [1.]\n",
      " [1.]\n",
      " [0.]]\n"
     ]
    }
   ],
   "source": [
    "#Extract the DISTANCE, DEP_DELAY, TAXI_OUT into an array\n",
    "Input = X[:, 1:4].astype(float)\n",
    "print(Input[0:10])\n",
    "Output = X[:, 5:6]\n",
    "print(Output[0:10])"
   ]
  },
  {
   "cell_type": "code",
   "execution_count": 22,
   "metadata": {},
   "outputs": [
    {
     "name": "stdout",
     "output_type": "stream",
     "text": [
      "Epoch 1/4\n",
      "3309846/3309846 [==============================] - 103s 31us/step - loss: 0.1560 - acc: 0.9453\n",
      "Epoch 2/4\n",
      "3309846/3309846 [==============================] - 99s 30us/step - loss: 0.1501 - acc: 0.9466\n",
      "Epoch 3/4\n",
      "3309846/3309846 [==============================] - 100s 30us/step - loss: 0.1489 - acc: 0.9466\n",
      "Epoch 4/4\n",
      "3309846/3309846 [==============================] - 100s 30us/step - loss: 0.1487 - acc: 0.9467\n"
     ]
    },
    {
     "data": {
      "text/plain": [
       "<keras.callbacks.History at 0x7fc0d6c09fd0>"
      ]
     },
     "execution_count": 22,
     "metadata": {},
     "output_type": "execute_result"
    }
   ],
   "source": [
    "#Create my model\n",
    "model = Sequential()\n",
    "#Create the first layer with my 3 dimentional input data.\n",
    "model.add(Dense(3, input_dim=3, kernel_initializer='normal', activation = 'relu'))\n",
    "#Create my output layer with one output variable.  Sigmoid activation is generally used for binary classification problems\n",
    "model.add(Dense(1, kernel_initializer='normal', activation ='sigmoid'))\n",
    "model.compile(loss='binary_crossentropy', optimizer='adam', metrics=['accuracy'])\n",
    "#Train my model with my Input and Output vectors. \n",
    "model.fit(Input, Output, epochs=4, batch_size=32)"
   ]
  },
  {
   "cell_type": "code",
   "execution_count": 23,
   "metadata": {},
   "outputs": [
    {
     "name": "stdout",
     "output_type": "stream",
     "text": [
      "_________________________________________________________________\n",
      "Layer (type)                 Output Shape              Param #   \n",
      "=================================================================\n",
      "dense_1 (Dense)              (None, 3)                 12        \n",
      "_________________________________________________________________\n",
      "dense_2 (Dense)              (None, 1)                 4         \n",
      "=================================================================\n",
      "Total params: 16\n",
      "Trainable params: 16\n",
      "Non-trainable params: 0\n",
      "_________________________________________________________________\n"
     ]
    }
   ],
   "source": [
    "model.summary()"
   ]
  },
  {
   "cell_type": "code",
   "execution_count": 24,
   "metadata": {},
   "outputs": [
    {
     "name": "stdout",
     "output_type": "stream",
     "text": [
      "[[0.91524994]]\n"
     ]
    }
   ],
   "source": [
    "#Test my model by sending an a test array to my model.  Delay if output=1, not delay if output = 0\n",
    "test = np.empty(shape=(0, 3))\n",
    "#test \n",
    "test = np.append(test, [[600, 40, 10]], axis=0)\n",
    "print(model.predict(test))"
   ]
  },
  {
   "cell_type": "code",
   "execution_count": null,
   "metadata": {},
   "outputs": [],
   "source": []
  }
 ],
 "metadata": {
  "kernelspec": {
   "display_name": "Python 3",
   "language": "python",
   "name": "python3"
  }
 },
 "nbformat": 4,
 "nbformat_minor": 2
}
